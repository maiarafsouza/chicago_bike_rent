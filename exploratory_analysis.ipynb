{
 "cells": [
  {
   "cell_type": "code",
   "execution_count": 2,
   "id": "4c13e046",
   "metadata": {},
   "outputs": [],
   "source": [
    "import pandas as pd\n",
    "import seaborn as sns\n",
    "import matplotlib.pyplot as plt\n",
    "import numpy as np\n",
    "import os"
   ]
  },
  {
   "cell_type": "markdown",
   "id": "6fc99129",
   "metadata": {},
   "source": [
    "# Modelagem de dados"
   ]
  },
  {
   "cell_type": "markdown",
   "id": "49399c8e",
   "metadata": {},
   "source": [
    "## Importar arquivos"
   ]
  },
  {
   "cell_type": "code",
   "execution_count": 3,
   "id": "40d75f39",
   "metadata": {},
   "outputs": [],
   "source": [
    "files = [file for file in os.listdir('data/raw')]"
   ]
  },
  {
   "cell_type": "code",
   "execution_count": 4,
   "id": "d06b9df2",
   "metadata": {},
   "outputs": [
    {
     "data": {
      "text/plain": [
       "['202004-divvy-tripdata.csv',\n",
       " '202005-divvy-tripdata.csv',\n",
       " '202006-divvy-tripdata.csv',\n",
       " '202007-divvy-tripdata.csv',\n",
       " '202008-divvy-tripdata.csv',\n",
       " '202009-divvy-tripdata.csv',\n",
       " '202010-divvy-tripdata.csv',\n",
       " '202011-divvy-tripdata.csv',\n",
       " '202012-divvy-tripdata.csv',\n",
       " '202101-divvy-tripdata.csv',\n",
       " '202102-divvy-tripdata.csv',\n",
       " '202103-divvy-tripdata.csv',\n",
       " '202104-divvy-tripdata.csv',\n",
       " '202105-divvy-tripdata.csv',\n",
       " '202106-divvy-tripdata.csv',\n",
       " '202107-divvy-tripdata.csv',\n",
       " '202108-divvy-tripdata.csv',\n",
       " '202109-divvy-tripdata.csv',\n",
       " '202110-divvy-tripdata.csv',\n",
       " '202111-divvy-tripdata.csv',\n",
       " '202112-divvy-tripdata.csv',\n",
       " '202201-divvy-tripdata.csv',\n",
       " '202202-divvy-tripdata.csv',\n",
       " '202203-divvy-tripdata.csv',\n",
       " '202204-divvy-tripdata.csv',\n",
       " '202205-divvy-tripdata.csv',\n",
       " '202206-divvy-tripdata.csv',\n",
       " '202207-divvy-tripdata.csv']"
      ]
     },
     "execution_count": 4,
     "metadata": {},
     "output_type": "execute_result"
    }
   ],
   "source": [
    "files"
   ]
  },
  {
   "cell_type": "markdown",
   "id": "c9f4724e",
   "metadata": {},
   "source": [
    "## Verificar se colunas combinam"
   ]
  },
  {
   "cell_type": "code",
   "execution_count": 5,
   "id": "d6c3019a",
   "metadata": {},
   "outputs": [],
   "source": [
    "file_sum = len(files)\n",
    "equal_sum = 0"
   ]
  },
  {
   "cell_type": "code",
   "execution_count": 7,
   "id": "59f0957d",
   "metadata": {},
   "outputs": [
    {
     "name": "stdout",
     "output_type": "stream",
     "text": [
      "False\n",
      "True\n",
      "True\n",
      "True\n",
      "True\n",
      "True\n",
      "True\n",
      "True\n",
      "True\n",
      "True\n",
      "True\n",
      "True\n",
      "True\n",
      "True\n",
      "True\n",
      "True\n",
      "True\n",
      "True\n",
      "True\n",
      "True\n",
      "True\n",
      "True\n",
      "True\n",
      "True\n",
      "True\n",
      "True\n",
      "True\n",
      "True\n"
     ]
    }
   ],
   "source": [
    "file_df1 = pd.DataFrame()\n",
    "for file in files:\n",
    "    file_df2 = pd.read_csv(f'data/raw/{file}')\n",
    "    print(file_df2.columns.equals(file_df1.columns))\n",
    "    file_df1 = file_df2\n",
    "    equal_sum += 1"
   ]
  },
  {
   "cell_type": "code",
   "execution_count": 8,
   "id": "8e3eba04",
   "metadata": {},
   "outputs": [
    {
     "name": "stdout",
     "output_type": "stream",
     "text": [
      "True\n"
     ]
    }
   ],
   "source": [
    "print(file_sum == equal_sum)"
   ]
  },
  {
   "cell_type": "markdown",
   "id": "e3d325a6",
   "metadata": {},
   "source": [
    "## Criar dataframe"
   ]
  },
  {
   "cell_type": "code",
   "execution_count": 9,
   "id": "8e9083eb",
   "metadata": {},
   "outputs": [],
   "source": [
    "df = pd.DataFrame()"
   ]
  },
  {
   "cell_type": "code",
   "execution_count": 11,
   "id": "ee8efc8b",
   "metadata": {},
   "outputs": [],
   "source": [
    "for file in files:\n",
    "    file_df = pd.read_csv(f'data/raw/{file}')\n",
    "    df = pd.concat([df, file_df])"
   ]
  },
  {
   "cell_type": "code",
   "execution_count": 12,
   "id": "027f438f",
   "metadata": {},
   "outputs": [
    {
     "data": {
      "text/html": [
       "<div>\n",
       "<style scoped>\n",
       "    .dataframe tbody tr th:only-of-type {\n",
       "        vertical-align: middle;\n",
       "    }\n",
       "\n",
       "    .dataframe tbody tr th {\n",
       "        vertical-align: top;\n",
       "    }\n",
       "\n",
       "    .dataframe thead th {\n",
       "        text-align: right;\n",
       "    }\n",
       "</style>\n",
       "<table border=\"1\" class=\"dataframe\">\n",
       "  <thead>\n",
       "    <tr style=\"text-align: right;\">\n",
       "      <th></th>\n",
       "      <th>ride_id</th>\n",
       "      <th>rideable_type</th>\n",
       "      <th>started_at</th>\n",
       "      <th>ended_at</th>\n",
       "      <th>start_station_name</th>\n",
       "      <th>start_station_id</th>\n",
       "      <th>end_station_name</th>\n",
       "      <th>end_station_id</th>\n",
       "      <th>start_lat</th>\n",
       "      <th>start_lng</th>\n",
       "      <th>end_lat</th>\n",
       "      <th>end_lng</th>\n",
       "      <th>member_casual</th>\n",
       "    </tr>\n",
       "  </thead>\n",
       "  <tbody>\n",
       "    <tr>\n",
       "      <th>0</th>\n",
       "      <td>A847FADBBC638E45</td>\n",
       "      <td>docked_bike</td>\n",
       "      <td>2020-04-26 17:45:14</td>\n",
       "      <td>2020-04-26 18:12:03</td>\n",
       "      <td>Eckhart Park</td>\n",
       "      <td>86.0</td>\n",
       "      <td>Lincoln Ave &amp; Diversey Pkwy</td>\n",
       "      <td>152.0</td>\n",
       "      <td>41.8964</td>\n",
       "      <td>-87.6610</td>\n",
       "      <td>41.9322</td>\n",
       "      <td>-87.6586</td>\n",
       "      <td>member</td>\n",
       "    </tr>\n",
       "    <tr>\n",
       "      <th>1</th>\n",
       "      <td>5405B80E996FF60D</td>\n",
       "      <td>docked_bike</td>\n",
       "      <td>2020-04-17 17:08:54</td>\n",
       "      <td>2020-04-17 17:17:03</td>\n",
       "      <td>Drake Ave &amp; Fullerton Ave</td>\n",
       "      <td>503.0</td>\n",
       "      <td>Kosciuszko Park</td>\n",
       "      <td>499.0</td>\n",
       "      <td>41.9244</td>\n",
       "      <td>-87.7154</td>\n",
       "      <td>41.9306</td>\n",
       "      <td>-87.7238</td>\n",
       "      <td>member</td>\n",
       "    </tr>\n",
       "    <tr>\n",
       "      <th>2</th>\n",
       "      <td>5DD24A79A4E006F4</td>\n",
       "      <td>docked_bike</td>\n",
       "      <td>2020-04-01 17:54:13</td>\n",
       "      <td>2020-04-01 18:08:36</td>\n",
       "      <td>McClurg Ct &amp; Erie St</td>\n",
       "      <td>142.0</td>\n",
       "      <td>Indiana Ave &amp; Roosevelt Rd</td>\n",
       "      <td>255.0</td>\n",
       "      <td>41.8945</td>\n",
       "      <td>-87.6179</td>\n",
       "      <td>41.8679</td>\n",
       "      <td>-87.6230</td>\n",
       "      <td>member</td>\n",
       "    </tr>\n",
       "    <tr>\n",
       "      <th>3</th>\n",
       "      <td>2A59BBDF5CDBA725</td>\n",
       "      <td>docked_bike</td>\n",
       "      <td>2020-04-07 12:50:19</td>\n",
       "      <td>2020-04-07 13:02:31</td>\n",
       "      <td>California Ave &amp; Division St</td>\n",
       "      <td>216.0</td>\n",
       "      <td>Wood St &amp; Augusta Blvd</td>\n",
       "      <td>657.0</td>\n",
       "      <td>41.9030</td>\n",
       "      <td>-87.6975</td>\n",
       "      <td>41.8992</td>\n",
       "      <td>-87.6722</td>\n",
       "      <td>member</td>\n",
       "    </tr>\n",
       "    <tr>\n",
       "      <th>4</th>\n",
       "      <td>27AD306C119C6158</td>\n",
       "      <td>docked_bike</td>\n",
       "      <td>2020-04-18 10:22:59</td>\n",
       "      <td>2020-04-18 11:15:54</td>\n",
       "      <td>Rush St &amp; Hubbard St</td>\n",
       "      <td>125.0</td>\n",
       "      <td>Sheridan Rd &amp; Lawrence Ave</td>\n",
       "      <td>323.0</td>\n",
       "      <td>41.8902</td>\n",
       "      <td>-87.6262</td>\n",
       "      <td>41.9695</td>\n",
       "      <td>-87.6547</td>\n",
       "      <td>casual</td>\n",
       "    </tr>\n",
       "    <tr>\n",
       "      <th>...</th>\n",
       "      <td>...</td>\n",
       "      <td>...</td>\n",
       "      <td>...</td>\n",
       "      <td>...</td>\n",
       "      <td>...</td>\n",
       "      <td>...</td>\n",
       "      <td>...</td>\n",
       "      <td>...</td>\n",
       "      <td>...</td>\n",
       "      <td>...</td>\n",
       "      <td>...</td>\n",
       "      <td>...</td>\n",
       "      <td>...</td>\n",
       "    </tr>\n",
       "    <tr>\n",
       "      <th>823483</th>\n",
       "      <td>605787F70B3B9FD3</td>\n",
       "      <td>electric_bike</td>\n",
       "      <td>2022-07-09 08:32:15</td>\n",
       "      <td>2022-07-09 08:56:10</td>\n",
       "      <td>NaN</td>\n",
       "      <td>NaN</td>\n",
       "      <td>NaN</td>\n",
       "      <td>NaN</td>\n",
       "      <td>41.7400</td>\n",
       "      <td>-87.6800</td>\n",
       "      <td>41.7500</td>\n",
       "      <td>-87.6800</td>\n",
       "      <td>member</td>\n",
       "    </tr>\n",
       "    <tr>\n",
       "      <th>823484</th>\n",
       "      <td>F0EECBEE637DF028</td>\n",
       "      <td>electric_bike</td>\n",
       "      <td>2022-07-17 13:27:57</td>\n",
       "      <td>2022-07-17 13:33:09</td>\n",
       "      <td>NaN</td>\n",
       "      <td>NaN</td>\n",
       "      <td>NaN</td>\n",
       "      <td>NaN</td>\n",
       "      <td>41.8700</td>\n",
       "      <td>-87.6600</td>\n",
       "      <td>41.8700</td>\n",
       "      <td>-87.6800</td>\n",
       "      <td>member</td>\n",
       "    </tr>\n",
       "    <tr>\n",
       "      <th>823485</th>\n",
       "      <td>B8B091DC72DDAB9D</td>\n",
       "      <td>electric_bike</td>\n",
       "      <td>2022-07-17 14:51:37</td>\n",
       "      <td>2022-07-17 14:57:01</td>\n",
       "      <td>NaN</td>\n",
       "      <td>NaN</td>\n",
       "      <td>NaN</td>\n",
       "      <td>NaN</td>\n",
       "      <td>41.9500</td>\n",
       "      <td>-87.6400</td>\n",
       "      <td>41.9500</td>\n",
       "      <td>-87.6500</td>\n",
       "      <td>member</td>\n",
       "    </tr>\n",
       "    <tr>\n",
       "      <th>823486</th>\n",
       "      <td>B4D3FFCC1F3AF5EC</td>\n",
       "      <td>electric_bike</td>\n",
       "      <td>2022-07-28 13:41:50</td>\n",
       "      <td>2022-07-28 13:47:17</td>\n",
       "      <td>NaN</td>\n",
       "      <td>NaN</td>\n",
       "      <td>NaN</td>\n",
       "      <td>NaN</td>\n",
       "      <td>41.8800</td>\n",
       "      <td>-87.6300</td>\n",
       "      <td>41.8700</td>\n",
       "      <td>-87.6300</td>\n",
       "      <td>member</td>\n",
       "    </tr>\n",
       "    <tr>\n",
       "      <th>823487</th>\n",
       "      <td>AA9217C8DA3BAC0B</td>\n",
       "      <td>electric_bike</td>\n",
       "      <td>2022-07-29 13:05:20</td>\n",
       "      <td>2022-07-29 13:10:40</td>\n",
       "      <td>NaN</td>\n",
       "      <td>NaN</td>\n",
       "      <td>NaN</td>\n",
       "      <td>NaN</td>\n",
       "      <td>41.9000</td>\n",
       "      <td>-87.6600</td>\n",
       "      <td>41.9000</td>\n",
       "      <td>-87.6700</td>\n",
       "      <td>member</td>\n",
       "    </tr>\n",
       "  </tbody>\n",
       "</table>\n",
       "<p>11812079 rows × 13 columns</p>\n",
       "</div>"
      ],
      "text/plain": [
       "                 ride_id  rideable_type           started_at  \\\n",
       "0       A847FADBBC638E45    docked_bike  2020-04-26 17:45:14   \n",
       "1       5405B80E996FF60D    docked_bike  2020-04-17 17:08:54   \n",
       "2       5DD24A79A4E006F4    docked_bike  2020-04-01 17:54:13   \n",
       "3       2A59BBDF5CDBA725    docked_bike  2020-04-07 12:50:19   \n",
       "4       27AD306C119C6158    docked_bike  2020-04-18 10:22:59   \n",
       "...                  ...            ...                  ...   \n",
       "823483  605787F70B3B9FD3  electric_bike  2022-07-09 08:32:15   \n",
       "823484  F0EECBEE637DF028  electric_bike  2022-07-17 13:27:57   \n",
       "823485  B8B091DC72DDAB9D  electric_bike  2022-07-17 14:51:37   \n",
       "823486  B4D3FFCC1F3AF5EC  electric_bike  2022-07-28 13:41:50   \n",
       "823487  AA9217C8DA3BAC0B  electric_bike  2022-07-29 13:05:20   \n",
       "\n",
       "                   ended_at            start_station_name start_station_id  \\\n",
       "0       2020-04-26 18:12:03                  Eckhart Park             86.0   \n",
       "1       2020-04-17 17:17:03     Drake Ave & Fullerton Ave            503.0   \n",
       "2       2020-04-01 18:08:36          McClurg Ct & Erie St            142.0   \n",
       "3       2020-04-07 13:02:31  California Ave & Division St            216.0   \n",
       "4       2020-04-18 11:15:54          Rush St & Hubbard St            125.0   \n",
       "...                     ...                           ...              ...   \n",
       "823483  2022-07-09 08:56:10                           NaN              NaN   \n",
       "823484  2022-07-17 13:33:09                           NaN              NaN   \n",
       "823485  2022-07-17 14:57:01                           NaN              NaN   \n",
       "823486  2022-07-28 13:47:17                           NaN              NaN   \n",
       "823487  2022-07-29 13:10:40                           NaN              NaN   \n",
       "\n",
       "                   end_station_name end_station_id  start_lat  start_lng  \\\n",
       "0       Lincoln Ave & Diversey Pkwy          152.0    41.8964   -87.6610   \n",
       "1                   Kosciuszko Park          499.0    41.9244   -87.7154   \n",
       "2        Indiana Ave & Roosevelt Rd          255.0    41.8945   -87.6179   \n",
       "3            Wood St & Augusta Blvd          657.0    41.9030   -87.6975   \n",
       "4        Sheridan Rd & Lawrence Ave          323.0    41.8902   -87.6262   \n",
       "...                             ...            ...        ...        ...   \n",
       "823483                          NaN            NaN    41.7400   -87.6800   \n",
       "823484                          NaN            NaN    41.8700   -87.6600   \n",
       "823485                          NaN            NaN    41.9500   -87.6400   \n",
       "823486                          NaN            NaN    41.8800   -87.6300   \n",
       "823487                          NaN            NaN    41.9000   -87.6600   \n",
       "\n",
       "        end_lat  end_lng member_casual  \n",
       "0       41.9322 -87.6586        member  \n",
       "1       41.9306 -87.7238        member  \n",
       "2       41.8679 -87.6230        member  \n",
       "3       41.8992 -87.6722        member  \n",
       "4       41.9695 -87.6547        casual  \n",
       "...         ...      ...           ...  \n",
       "823483  41.7500 -87.6800        member  \n",
       "823484  41.8700 -87.6800        member  \n",
       "823485  41.9500 -87.6500        member  \n",
       "823486  41.8700 -87.6300        member  \n",
       "823487  41.9000 -87.6700        member  \n",
       "\n",
       "[11812079 rows x 13 columns]"
      ]
     },
     "execution_count": 12,
     "metadata": {},
     "output_type": "execute_result"
    }
   ],
   "source": [
    "df"
   ]
  },
  {
   "cell_type": "markdown",
   "id": "f3126738",
   "metadata": {},
   "source": [
    "## Adicionar duração do uso"
   ]
  },
  {
   "cell_type": "code",
   "execution_count": 13,
   "id": "b2a3d13a",
   "metadata": {},
   "outputs": [],
   "source": [
    "df['ended_at'] = pd.to_datetime(df['ended_at'])"
   ]
  },
  {
   "cell_type": "code",
   "execution_count": 14,
   "id": "037a4760",
   "metadata": {},
   "outputs": [],
   "source": [
    "df['started_at'] = pd.to_datetime(df['started_at'])"
   ]
  },
  {
   "cell_type": "code",
   "execution_count": 15,
   "id": "d9f8f97d",
   "metadata": {},
   "outputs": [],
   "source": [
    "df['ride_duration'] = df['ended_at'] - df['started_at']"
   ]
  },
  {
   "cell_type": "code",
   "execution_count": 16,
   "id": "8359c449",
   "metadata": {},
   "outputs": [
    {
     "name": "stdout",
     "output_type": "stream",
     "text": [
      "0        0 days 00:26:49\n",
      "1        0 days 00:08:09\n",
      "2        0 days 00:14:23\n",
      "3        0 days 00:12:12\n",
      "4        0 days 00:52:55\n",
      "               ...      \n",
      "823483   0 days 00:23:55\n",
      "823484   0 days 00:05:12\n",
      "823485   0 days 00:05:24\n",
      "823486   0 days 00:05:27\n",
      "823487   0 days 00:05:20\n",
      "Name: ride_duration, Length: 11812079, dtype: timedelta64[ns]\n"
     ]
    }
   ],
   "source": [
    "print(df['ride_duration'])"
   ]
  },
  {
   "cell_type": "code",
   "execution_count": 17,
   "id": "6da78071",
   "metadata": {},
   "outputs": [],
   "source": [
    "df['ride_duration_seconds'] = df['ride_duration'].dt.total_seconds()"
   ]
  },
  {
   "cell_type": "code",
   "execution_count": 18,
   "id": "683b0a43",
   "metadata": {},
   "outputs": [
    {
     "name": "stdout",
     "output_type": "stream",
     "text": [
      "0         1609.0\n",
      "1          489.0\n",
      "2          863.0\n",
      "3          732.0\n",
      "4         3175.0\n",
      "           ...  \n",
      "823483    1435.0\n",
      "823484     312.0\n",
      "823485     324.0\n",
      "823486     327.0\n",
      "823487     320.0\n",
      "Name: ride_duration_seconds, Length: 11812079, dtype: float64\n"
     ]
    }
   ],
   "source": [
    "print(df['ride_duration_seconds'])"
   ]
  },
  {
   "cell_type": "markdown",
   "id": "b1129694",
   "metadata": {},
   "source": [
    "## Adicionar distância percorrida"
   ]
  },
  {
   "cell_type": "code",
   "execution_count": 19,
   "id": "ea59a0ee",
   "metadata": {},
   "outputs": [],
   "source": [
    "def haversine_distance(lat1, lon1, lat2, lon2):\n",
    "   r = 6371\n",
    "   phi1 = np.radians(lat1)\n",
    "   phi2 = np.radians(lat2)\n",
    "   delta_phi = np.radians(lat2 - lat1)\n",
    "   delta_lambda = np.radians(lon2 - lon1)\n",
    "   a = np.sin(delta_phi / 2)**2 + np.cos(phi1) * np.cos(phi2) *   np.sin(delta_lambda / 2)**2\n",
    "   res = r * (2 * np.arctan2(np.sqrt(a), np.sqrt(1 - a)))\n",
    "   return np.round(res, 2)"
   ]
  },
  {
   "cell_type": "code",
   "execution_count": 20,
   "id": "b7053c99",
   "metadata": {},
   "outputs": [],
   "source": [
    "df['ride_distance_km'] = haversine_distance(df['start_lat'], df['start_lng'], df['end_lat'], df['end_lng'])"
   ]
  },
  {
   "cell_type": "code",
   "execution_count": 21,
   "id": "f2c73075",
   "metadata": {},
   "outputs": [
    {
     "data": {
      "text/plain": [
       "0         3.99\n",
       "1         0.98\n",
       "2         2.99\n",
       "3         2.14\n",
       "4         9.13\n",
       "          ... \n",
       "823483    1.11\n",
       "823484    1.66\n",
       "823485    0.83\n",
       "823486    1.11\n",
       "823487    0.83\n",
       "Name: ride_distance_km, Length: 11812079, dtype: float64"
      ]
     },
     "execution_count": 21,
     "metadata": {},
     "output_type": "execute_result"
    }
   ],
   "source": [
    "df['ride_distance_km']"
   ]
  },
  {
   "cell_type": "markdown",
   "id": "43698bef",
   "metadata": {},
   "source": [
    "## Adicionar dia da semana, mês, ano e hora"
   ]
  },
  {
   "cell_type": "code",
   "execution_count": 22,
   "id": "d0820c81",
   "metadata": {},
   "outputs": [],
   "source": [
    "df['weekday'] = df['started_at'].dt.day_name()\n",
    "df['month'] = df['started_at'].dt.month\n",
    "df['year'] = df['started_at'].dt.year\n",
    "df['hour'] = df['started_at'].dt.hour\n",
    "df['month_year'] = df['started_at'].dt.to_period('M')"
   ]
  },
  {
   "cell_type": "markdown",
   "id": "8ec0f370",
   "metadata": {},
   "source": [
    "# Limpeza e formatação de dados"
   ]
  },
  {
   "cell_type": "markdown",
   "id": "8fb2940a",
   "metadata": {},
   "source": [
    "## Excluir linhas de NaN e duplicatas"
   ]
  },
  {
   "cell_type": "code",
   "execution_count": 23,
   "id": "6c52a4a1",
   "metadata": {},
   "outputs": [],
   "source": [
    "df.dropna(how='all', inplace=True)"
   ]
  },
  {
   "cell_type": "code",
   "execution_count": 24,
   "id": "91c9f982",
   "metadata": {},
   "outputs": [],
   "source": [
    "df.drop_duplicates(subset=['ride_id'], inplace=True)"
   ]
  },
  {
   "cell_type": "markdown",
   "id": "8d2fe6dc",
   "metadata": {},
   "source": [
    "## Verificar porcentagem de NaN em colunas"
   ]
  },
  {
   "cell_type": "code",
   "execution_count": 25,
   "id": "486b9526",
   "metadata": {},
   "outputs": [
    {
     "data": {
      "text/plain": [
       "ride_id                  0.000000\n",
       "rideable_type            0.000000\n",
       "started_at               0.000000\n",
       "ended_at                 0.000000\n",
       "start_station_name       0.104142\n",
       "start_station_id         0.104195\n",
       "end_station_name         0.112518\n",
       "end_station_id           0.112557\n",
       "start_lat                0.000000\n",
       "start_lng                0.000000\n",
       "end_lat                  0.001058\n",
       "end_lng                  0.001058\n",
       "member_casual            0.000000\n",
       "ride_duration            0.000000\n",
       "ride_duration_seconds    0.000000\n",
       "ride_distance_km         0.001058\n",
       "weekday                  0.000000\n",
       "month                    0.000000\n",
       "year                     0.000000\n",
       "hour                     0.000000\n",
       "month_year               0.000000\n",
       "dtype: float64"
      ]
     },
     "execution_count": 25,
     "metadata": {},
     "output_type": "execute_result"
    }
   ],
   "source": [
    "percent_missing = df.isnull().sum() / len(df)\n",
    "percent_missing"
   ]
  },
  {
   "cell_type": "markdown",
   "id": "14404b04",
   "metadata": {},
   "source": [
    "Dados sobre a estação de início e de final não são confiáveis"
   ]
  },
  {
   "cell_type": "code",
   "execution_count": 26,
   "id": "6e47b12f",
   "metadata": {},
   "outputs": [],
   "source": [
    "df.drop(columns=['start_station_name', 'start_station_id', 'end_station_name', 'end_station_id'], inplace=True)"
   ]
  },
  {
   "cell_type": "markdown",
   "id": "82e35039",
   "metadata": {},
   "source": [
    "## Excluir informações redundantes"
   ]
  },
  {
   "cell_type": "code",
   "execution_count": 28,
   "id": "4eb46617",
   "metadata": {},
   "outputs": [],
   "source": [
    "df.drop(columns=['start_lat', 'start_lng', 'end_lat', 'end_lng'], inplace=True)"
   ]
  },
  {
   "cell_type": "markdown",
   "id": "4ab93ab2",
   "metadata": {},
   "source": [
    "## Verificar tipos de dados"
   ]
  },
  {
   "cell_type": "code",
   "execution_count": 29,
   "id": "6414299b",
   "metadata": {},
   "outputs": [
    {
     "data": {
      "text/plain": [
       "ride_id                           object\n",
       "rideable_type                     object\n",
       "started_at                datetime64[ns]\n",
       "ended_at                  datetime64[ns]\n",
       "member_casual                     object\n",
       "ride_duration            timedelta64[ns]\n",
       "ride_duration_seconds            float64\n",
       "ride_distance_km                 float64\n",
       "weekday                           object\n",
       "month                              int64\n",
       "year                               int64\n",
       "hour                               int64\n",
       "month_year                     period[M]\n",
       "dtype: object"
      ]
     },
     "execution_count": 29,
     "metadata": {},
     "output_type": "execute_result"
    }
   ],
   "source": [
    "df.dtypes"
   ]
  },
  {
   "cell_type": "markdown",
   "id": "d3781330",
   "metadata": {},
   "source": [
    "## Verificar valores de dados"
   ]
  },
  {
   "cell_type": "code",
   "execution_count": 30,
   "id": "be1c4c48",
   "metadata": {},
   "outputs": [
    {
     "data": {
      "text/html": [
       "<div>\n",
       "<style scoped>\n",
       "    .dataframe tbody tr th:only-of-type {\n",
       "        vertical-align: middle;\n",
       "    }\n",
       "\n",
       "    .dataframe tbody tr th {\n",
       "        vertical-align: top;\n",
       "    }\n",
       "\n",
       "    .dataframe thead th {\n",
       "        text-align: right;\n",
       "    }\n",
       "</style>\n",
       "<table border=\"1\" class=\"dataframe\">\n",
       "  <thead>\n",
       "    <tr style=\"text-align: right;\">\n",
       "      <th></th>\n",
       "      <th>ride_duration</th>\n",
       "      <th>ride_duration_seconds</th>\n",
       "      <th>ride_distance_km</th>\n",
       "      <th>month</th>\n",
       "      <th>year</th>\n",
       "      <th>hour</th>\n",
       "    </tr>\n",
       "  </thead>\n",
       "  <tbody>\n",
       "    <tr>\n",
       "      <th>count</th>\n",
       "      <td>11811870</td>\n",
       "      <td>1.181187e+07</td>\n",
       "      <td>1.179938e+07</td>\n",
       "      <td>1.181187e+07</td>\n",
       "      <td>1.181187e+07</td>\n",
       "      <td>1.181187e+07</td>\n",
       "    </tr>\n",
       "    <tr>\n",
       "      <th>mean</th>\n",
       "      <td>0 days 00:22:55.097353424</td>\n",
       "      <td>1.375097e+03</td>\n",
       "      <td>2.196697e+00</td>\n",
       "      <td>7.034103e+00</td>\n",
       "      <td>2.020999e+03</td>\n",
       "      <td>1.429523e+01</td>\n",
       "    </tr>\n",
       "    <tr>\n",
       "      <th>std</th>\n",
       "      <td>0 days 03:48:46.696078875</td>\n",
       "      <td>1.372670e+04</td>\n",
       "      <td>2.022507e+00</td>\n",
       "      <td>2.419340e+00</td>\n",
       "      <td>7.254775e-01</td>\n",
       "      <td>4.928974e+00</td>\n",
       "    </tr>\n",
       "    <tr>\n",
       "      <th>min</th>\n",
       "      <td>-21 days +19:50:02</td>\n",
       "      <td>-1.742998e+06</td>\n",
       "      <td>0.000000e+00</td>\n",
       "      <td>1.000000e+00</td>\n",
       "      <td>2.020000e+03</td>\n",
       "      <td>0.000000e+00</td>\n",
       "    </tr>\n",
       "    <tr>\n",
       "      <th>25%</th>\n",
       "      <td>0 days 00:06:51</td>\n",
       "      <td>4.110000e+02</td>\n",
       "      <td>8.800000e-01</td>\n",
       "      <td>5.000000e+00</td>\n",
       "      <td>2.020000e+03</td>\n",
       "      <td>1.100000e+01</td>\n",
       "    </tr>\n",
       "    <tr>\n",
       "      <th>50%</th>\n",
       "      <td>0 days 00:12:22</td>\n",
       "      <td>7.420000e+02</td>\n",
       "      <td>1.650000e+00</td>\n",
       "      <td>7.000000e+00</td>\n",
       "      <td>2.021000e+03</td>\n",
       "      <td>1.500000e+01</td>\n",
       "    </tr>\n",
       "    <tr>\n",
       "      <th>75%</th>\n",
       "      <td>0 days 00:22:43</td>\n",
       "      <td>1.363000e+03</td>\n",
       "      <td>2.930000e+00</td>\n",
       "      <td>9.000000e+00</td>\n",
       "      <td>2.022000e+03</td>\n",
       "      <td>1.800000e+01</td>\n",
       "    </tr>\n",
       "    <tr>\n",
       "      <th>max</th>\n",
       "      <td>40 days 18:40:02</td>\n",
       "      <td>3.523202e+06</td>\n",
       "      <td>1.189520e+03</td>\n",
       "      <td>1.200000e+01</td>\n",
       "      <td>2.022000e+03</td>\n",
       "      <td>2.300000e+01</td>\n",
       "    </tr>\n",
       "  </tbody>\n",
       "</table>\n",
       "</div>"
      ],
      "text/plain": [
       "                   ride_duration  ride_duration_seconds  ride_distance_km  \\\n",
       "count                   11811870           1.181187e+07      1.179938e+07   \n",
       "mean   0 days 00:22:55.097353424           1.375097e+03      2.196697e+00   \n",
       "std    0 days 03:48:46.696078875           1.372670e+04      2.022507e+00   \n",
       "min           -21 days +19:50:02          -1.742998e+06      0.000000e+00   \n",
       "25%              0 days 00:06:51           4.110000e+02      8.800000e-01   \n",
       "50%              0 days 00:12:22           7.420000e+02      1.650000e+00   \n",
       "75%              0 days 00:22:43           1.363000e+03      2.930000e+00   \n",
       "max             40 days 18:40:02           3.523202e+06      1.189520e+03   \n",
       "\n",
       "              month          year          hour  \n",
       "count  1.181187e+07  1.181187e+07  1.181187e+07  \n",
       "mean   7.034103e+00  2.020999e+03  1.429523e+01  \n",
       "std    2.419340e+00  7.254775e-01  4.928974e+00  \n",
       "min    1.000000e+00  2.020000e+03  0.000000e+00  \n",
       "25%    5.000000e+00  2.020000e+03  1.100000e+01  \n",
       "50%    7.000000e+00  2.021000e+03  1.500000e+01  \n",
       "75%    9.000000e+00  2.022000e+03  1.800000e+01  \n",
       "max    1.200000e+01  2.022000e+03  2.300000e+01  "
      ]
     },
     "execution_count": 30,
     "metadata": {},
     "output_type": "execute_result"
    }
   ],
   "source": [
    "df.describe()"
   ]
  },
  {
   "cell_type": "code",
   "execution_count": 31,
   "id": "b46dbc0e",
   "metadata": {},
   "outputs": [],
   "source": [
    "invalid_rides = df.loc[df['ride_duration'] <= pd.Timedelta(0, unit='s')].index"
   ]
  },
  {
   "cell_type": "code",
   "execution_count": 32,
   "id": "e04c70f6",
   "metadata": {},
   "outputs": [],
   "source": [
    "df.drop(index=invalid_rides, inplace=True)"
   ]
  },
  {
   "cell_type": "markdown",
   "id": "db60bbc3",
   "metadata": {},
   "source": [
    "# Análise exploratória"
   ]
  },
  {
   "cell_type": "code",
   "execution_count": 33,
   "id": "aab72a98",
   "metadata": {
    "scrolled": true
   },
   "outputs": [
    {
     "data": {
      "text/html": [
       "<div>\n",
       "<style scoped>\n",
       "    .dataframe tbody tr th:only-of-type {\n",
       "        vertical-align: middle;\n",
       "    }\n",
       "\n",
       "    .dataframe tbody tr th {\n",
       "        vertical-align: top;\n",
       "    }\n",
       "\n",
       "    .dataframe thead th {\n",
       "        text-align: right;\n",
       "    }\n",
       "</style>\n",
       "<table border=\"1\" class=\"dataframe\">\n",
       "  <thead>\n",
       "    <tr style=\"text-align: right;\">\n",
       "      <th></th>\n",
       "      <th>ride_id</th>\n",
       "      <th>rideable_type</th>\n",
       "      <th>started_at</th>\n",
       "      <th>ended_at</th>\n",
       "      <th>member_casual</th>\n",
       "      <th>ride_duration</th>\n",
       "      <th>ride_duration_seconds</th>\n",
       "      <th>ride_distance_km</th>\n",
       "      <th>weekday</th>\n",
       "      <th>month</th>\n",
       "      <th>year</th>\n",
       "      <th>hour</th>\n",
       "      <th>month_year</th>\n",
       "    </tr>\n",
       "  </thead>\n",
       "  <tbody>\n",
       "    <tr>\n",
       "      <th>0</th>\n",
       "      <td>A847FADBBC638E45</td>\n",
       "      <td>docked_bike</td>\n",
       "      <td>2020-04-26 17:45:14</td>\n",
       "      <td>2020-04-26 18:12:03</td>\n",
       "      <td>member</td>\n",
       "      <td>0 days 00:26:49</td>\n",
       "      <td>1609.0</td>\n",
       "      <td>3.99</td>\n",
       "      <td>Sunday</td>\n",
       "      <td>4</td>\n",
       "      <td>2020</td>\n",
       "      <td>17</td>\n",
       "      <td>2020-04</td>\n",
       "    </tr>\n",
       "    <tr>\n",
       "      <th>1</th>\n",
       "      <td>5405B80E996FF60D</td>\n",
       "      <td>docked_bike</td>\n",
       "      <td>2020-04-17 17:08:54</td>\n",
       "      <td>2020-04-17 17:17:03</td>\n",
       "      <td>member</td>\n",
       "      <td>0 days 00:08:09</td>\n",
       "      <td>489.0</td>\n",
       "      <td>0.98</td>\n",
       "      <td>Friday</td>\n",
       "      <td>4</td>\n",
       "      <td>2020</td>\n",
       "      <td>17</td>\n",
       "      <td>2020-04</td>\n",
       "    </tr>\n",
       "    <tr>\n",
       "      <th>2</th>\n",
       "      <td>5DD24A79A4E006F4</td>\n",
       "      <td>docked_bike</td>\n",
       "      <td>2020-04-01 17:54:13</td>\n",
       "      <td>2020-04-01 18:08:36</td>\n",
       "      <td>member</td>\n",
       "      <td>0 days 00:14:23</td>\n",
       "      <td>863.0</td>\n",
       "      <td>2.99</td>\n",
       "      <td>Wednesday</td>\n",
       "      <td>4</td>\n",
       "      <td>2020</td>\n",
       "      <td>17</td>\n",
       "      <td>2020-04</td>\n",
       "    </tr>\n",
       "    <tr>\n",
       "      <th>3</th>\n",
       "      <td>2A59BBDF5CDBA725</td>\n",
       "      <td>docked_bike</td>\n",
       "      <td>2020-04-07 12:50:19</td>\n",
       "      <td>2020-04-07 13:02:31</td>\n",
       "      <td>member</td>\n",
       "      <td>0 days 00:12:12</td>\n",
       "      <td>732.0</td>\n",
       "      <td>2.14</td>\n",
       "      <td>Tuesday</td>\n",
       "      <td>4</td>\n",
       "      <td>2020</td>\n",
       "      <td>12</td>\n",
       "      <td>2020-04</td>\n",
       "    </tr>\n",
       "    <tr>\n",
       "      <th>4</th>\n",
       "      <td>27AD306C119C6158</td>\n",
       "      <td>docked_bike</td>\n",
       "      <td>2020-04-18 10:22:59</td>\n",
       "      <td>2020-04-18 11:15:54</td>\n",
       "      <td>casual</td>\n",
       "      <td>0 days 00:52:55</td>\n",
       "      <td>3175.0</td>\n",
       "      <td>9.13</td>\n",
       "      <td>Saturday</td>\n",
       "      <td>4</td>\n",
       "      <td>2020</td>\n",
       "      <td>10</td>\n",
       "      <td>2020-04</td>\n",
       "    </tr>\n",
       "  </tbody>\n",
       "</table>\n",
       "</div>"
      ],
      "text/plain": [
       "            ride_id rideable_type          started_at            ended_at  \\\n",
       "0  A847FADBBC638E45   docked_bike 2020-04-26 17:45:14 2020-04-26 18:12:03   \n",
       "1  5405B80E996FF60D   docked_bike 2020-04-17 17:08:54 2020-04-17 17:17:03   \n",
       "2  5DD24A79A4E006F4   docked_bike 2020-04-01 17:54:13 2020-04-01 18:08:36   \n",
       "3  2A59BBDF5CDBA725   docked_bike 2020-04-07 12:50:19 2020-04-07 13:02:31   \n",
       "4  27AD306C119C6158   docked_bike 2020-04-18 10:22:59 2020-04-18 11:15:54   \n",
       "\n",
       "  member_casual   ride_duration  ride_duration_seconds  ride_distance_km  \\\n",
       "0        member 0 days 00:26:49                 1609.0              3.99   \n",
       "1        member 0 days 00:08:09                  489.0              0.98   \n",
       "2        member 0 days 00:14:23                  863.0              2.99   \n",
       "3        member 0 days 00:12:12                  732.0              2.14   \n",
       "4        casual 0 days 00:52:55                 3175.0              9.13   \n",
       "\n",
       "     weekday  month  year  hour month_year  \n",
       "0     Sunday      4  2020    17    2020-04  \n",
       "1     Friday      4  2020    17    2020-04  \n",
       "2  Wednesday      4  2020    17    2020-04  \n",
       "3    Tuesday      4  2020    12    2020-04  \n",
       "4   Saturday      4  2020    10    2020-04  "
      ]
     },
     "execution_count": 33,
     "metadata": {},
     "output_type": "execute_result"
    }
   ],
   "source": [
    "df.head()"
   ]
  },
  {
   "cell_type": "markdown",
   "id": "fdca3dff",
   "metadata": {},
   "source": [
    "## Por tipo de usuário"
   ]
  },
  {
   "cell_type": "code",
   "execution_count": 34,
   "id": "91d2ae4b",
   "metadata": {},
   "outputs": [
    {
     "data": {
      "text/plain": [
       "member_casual\n",
       "member           0.562812\n",
       "casual           0.437188\n",
       "dtype: float64"
      ]
     },
     "execution_count": 34,
     "metadata": {},
     "output_type": "execute_result"
    }
   ],
   "source": [
    "df.value_counts(['member_casual'], normalize=True)"
   ]
  },
  {
   "cell_type": "code",
   "execution_count": 35,
   "id": "ba8c7687",
   "metadata": {},
   "outputs": [],
   "source": [
    "user_type = df.groupby(['member_casual'])"
   ]
  },
  {
   "cell_type": "code",
   "execution_count": 36,
   "id": "d3ddc725",
   "metadata": {},
   "outputs": [
    {
     "data": {
      "text/html": [
       "<div>\n",
       "<style scoped>\n",
       "    .dataframe tbody tr th:only-of-type {\n",
       "        vertical-align: middle;\n",
       "    }\n",
       "\n",
       "    .dataframe tbody tr th {\n",
       "        vertical-align: top;\n",
       "    }\n",
       "\n",
       "    .dataframe thead th {\n",
       "        text-align: right;\n",
       "    }\n",
       "</style>\n",
       "<table border=\"1\" class=\"dataframe\">\n",
       "  <thead>\n",
       "    <tr style=\"text-align: right;\">\n",
       "      <th></th>\n",
       "      <th>count</th>\n",
       "      <th>mean</th>\n",
       "      <th>std</th>\n",
       "      <th>min</th>\n",
       "      <th>25%</th>\n",
       "      <th>50%</th>\n",
       "      <th>75%</th>\n",
       "      <th>max</th>\n",
       "    </tr>\n",
       "    <tr>\n",
       "      <th>member_casual</th>\n",
       "      <th></th>\n",
       "      <th></th>\n",
       "      <th></th>\n",
       "      <th></th>\n",
       "      <th></th>\n",
       "      <th></th>\n",
       "      <th></th>\n",
       "      <th></th>\n",
       "    </tr>\n",
       "  </thead>\n",
       "  <tbody>\n",
       "    <tr>\n",
       "      <th>casual</th>\n",
       "      <td>5068943</td>\n",
       "      <td>0 days 00:35:08.180783646</td>\n",
       "      <td>0 days 04:58:02.383289235</td>\n",
       "      <td>0 days 00:00:01</td>\n",
       "      <td>0 days 00:09:18</td>\n",
       "      <td>0 days 00:16:42</td>\n",
       "      <td>0 days 00:30:58</td>\n",
       "      <td>38 days 20:24:09</td>\n",
       "    </tr>\n",
       "    <tr>\n",
       "      <th>member</th>\n",
       "      <td>6525484</td>\n",
       "      <td>0 days 00:14:12.727343596</td>\n",
       "      <td>0 days 00:56:35.581092291</td>\n",
       "      <td>0 days 00:00:01</td>\n",
       "      <td>0 days 00:05:43</td>\n",
       "      <td>0 days 00:09:59</td>\n",
       "      <td>0 days 00:17:27</td>\n",
       "      <td>40 days 18:40:02</td>\n",
       "    </tr>\n",
       "  </tbody>\n",
       "</table>\n",
       "</div>"
      ],
      "text/plain": [
       "                 count                       mean                        std  \\\n",
       "member_casual                                                                  \n",
       "casual         5068943  0 days 00:35:08.180783646  0 days 04:58:02.383289235   \n",
       "member         6525484  0 days 00:14:12.727343596  0 days 00:56:35.581092291   \n",
       "\n",
       "                           min              25%              50%  \\\n",
       "member_casual                                                      \n",
       "casual         0 days 00:00:01  0 days 00:09:18  0 days 00:16:42   \n",
       "member         0 days 00:00:01  0 days 00:05:43  0 days 00:09:59   \n",
       "\n",
       "                           75%               max  \n",
       "member_casual                                     \n",
       "casual         0 days 00:30:58  38 days 20:24:09  \n",
       "member         0 days 00:17:27  40 days 18:40:02  "
      ]
     },
     "execution_count": 36,
     "metadata": {},
     "output_type": "execute_result"
    }
   ],
   "source": [
    "user_type['ride_duration'].describe()"
   ]
  },
  {
   "cell_type": "code",
   "execution_count": 37,
   "id": "c8129897",
   "metadata": {},
   "outputs": [
    {
     "data": {
      "text/html": [
       "<div>\n",
       "<style scoped>\n",
       "    .dataframe tbody tr th:only-of-type {\n",
       "        vertical-align: middle;\n",
       "    }\n",
       "\n",
       "    .dataframe tbody tr th {\n",
       "        vertical-align: top;\n",
       "    }\n",
       "\n",
       "    .dataframe thead th {\n",
       "        text-align: right;\n",
       "    }\n",
       "</style>\n",
       "<table border=\"1\" class=\"dataframe\">\n",
       "  <thead>\n",
       "    <tr style=\"text-align: right;\">\n",
       "      <th></th>\n",
       "      <th>count</th>\n",
       "      <th>mean</th>\n",
       "      <th>std</th>\n",
       "      <th>min</th>\n",
       "      <th>25%</th>\n",
       "      <th>50%</th>\n",
       "      <th>75%</th>\n",
       "      <th>max</th>\n",
       "    </tr>\n",
       "    <tr>\n",
       "      <th>member_casual</th>\n",
       "      <th></th>\n",
       "      <th></th>\n",
       "      <th></th>\n",
       "      <th></th>\n",
       "      <th></th>\n",
       "      <th></th>\n",
       "      <th></th>\n",
       "      <th></th>\n",
       "    </tr>\n",
       "  </thead>\n",
       "  <tbody>\n",
       "    <tr>\n",
       "      <th>casual</th>\n",
       "      <td>5060461.0</td>\n",
       "      <td>2.234027</td>\n",
       "      <td>2.156772</td>\n",
       "      <td>0.0</td>\n",
       "      <td>0.87</td>\n",
       "      <td>1.71</td>\n",
       "      <td>3.01</td>\n",
       "      <td>1189.52</td>\n",
       "    </tr>\n",
       "    <tr>\n",
       "      <th>member</th>\n",
       "      <td>6521690.0</td>\n",
       "      <td>2.168460</td>\n",
       "      <td>1.913066</td>\n",
       "      <td>0.0</td>\n",
       "      <td>0.89</td>\n",
       "      <td>1.60</td>\n",
       "      <td>2.87</td>\n",
       "      <td>48.37</td>\n",
       "    </tr>\n",
       "  </tbody>\n",
       "</table>\n",
       "</div>"
      ],
      "text/plain": [
       "                   count      mean       std  min   25%   50%   75%      max\n",
       "member_casual                                                               \n",
       "casual         5060461.0  2.234027  2.156772  0.0  0.87  1.71  3.01  1189.52\n",
       "member         6521690.0  2.168460  1.913066  0.0  0.89  1.60  2.87    48.37"
      ]
     },
     "execution_count": 37,
     "metadata": {},
     "output_type": "execute_result"
    }
   ],
   "source": [
    "user_type['ride_distance_km'].describe()"
   ]
  },
  {
   "cell_type": "markdown",
   "id": "5d051d35",
   "metadata": {},
   "source": [
    "Apesar das distâncias médias percorridas serem similares entre membros e usuários casuais, o tempo médio de uso é maior do que o dobre entre usuários casuais quando comparado aos membros. Sugerindo que usuários casuais usam os veículos para lazer e com menos frequência, enquanto usuários membros usam com mais frequência e por menos tempo."
   ]
  },
  {
   "cell_type": "markdown",
   "id": "96552a5a",
   "metadata": {},
   "source": [
    "## Por mês e tipo de usuário"
   ]
  },
  {
   "cell_type": "code",
   "execution_count": 38,
   "id": "b136b222",
   "metadata": {},
   "outputs": [],
   "source": [
    "mensal = df.groupby(['month_year', 'member_casual']).agg({'ride_id':'count', 'ride_distance_km':'mean', 'ride_duration':'mean'})"
   ]
  },
  {
   "cell_type": "code",
   "execution_count": 39,
   "id": "bf956bc6",
   "metadata": {},
   "outputs": [],
   "source": [
    "mensal.reset_index(inplace=True)"
   ]
  },
  {
   "cell_type": "code",
   "execution_count": 40,
   "id": "d2c0734c",
   "metadata": {},
   "outputs": [],
   "source": [
    "mensal.rename(columns={'ride_id':'ride_count'}, inplace=True)"
   ]
  },
  {
   "cell_type": "code",
   "execution_count": 41,
   "id": "ec924739",
   "metadata": {},
   "outputs": [
    {
     "data": {
      "image/png": "[encoded data removed]",
      "text/plain": [
       "<Figure size 432x288 with 1 Axes>"
      ]
     },
     "metadata": {
      "needs_background": "light"
     },
     "output_type": "display_data"
    }
   ],
   "source": [
    "sns.lineplot(x=mensal['month_year'].astype(str), y='ride_count', data=mensal, hue='member_casual')\n",
    "plt.xticks(rotation=90)\n",
    "plt.show()"
   ]
  },
  {
   "cell_type": "markdown",
   "id": "df301219",
   "metadata": {},
   "source": [
    "Picos de uso entre junho e outubro, meses com temperaturas mais altas em Chicago.\n",
    "Menores usos entre novembro e abril, meses com temperaturas mais baixas.\n",
    "Nos meses com baixas temperaturas, membros usam mais do que usuários casuais."
   ]
  },
  {
   "cell_type": "markdown",
   "id": "ab317b63",
   "metadata": {},
   "source": [
    "## Por dia da semana e tipo de usuário"
   ]
  },
  {
   "cell_type": "code",
   "execution_count": 42,
   "id": "68dead25",
   "metadata": {},
   "outputs": [],
   "source": [
    "dia_da_semana = df.groupby(['weekday', 'member_casual']).agg({'ride_id':'count', 'ride_distance_km':'mean', 'ride_duration':'mean'})"
   ]
  },
  {
   "cell_type": "code",
   "execution_count": 43,
   "id": "ceeddd35",
   "metadata": {},
   "outputs": [],
   "source": [
    "dia_da_semana.reset_index(inplace=True)"
   ]
  },
  {
   "cell_type": "code",
   "execution_count": 44,
   "id": "a862b6de",
   "metadata": {},
   "outputs": [],
   "source": [
    "dia_da_semana.rename(columns={'ride_id':'ride_count'}, inplace=True)"
   ]
  },
  {
   "cell_type": "code",
   "execution_count": 45,
   "id": "fb5ac4cf",
   "metadata": {},
   "outputs": [
    {
     "data": {
      "image/png": "[encoded data removed]",
      "text/plain": [
       "<Figure size 432x288 with 1 Axes>"
      ]
     },
     "metadata": {
      "needs_background": "light"
     },
     "output_type": "display_data"
    }
   ],
   "source": [
    "sns.lineplot(x=dia_da_semana['weekday'], y='ride_count', data=dia_da_semana, hue='member_casual')\n",
    "plt.xticks(rotation=90)\n",
    "plt.show()"
   ]
  },
  {
   "cell_type": "markdown",
   "id": "23d94bff",
   "metadata": {},
   "source": [
    "Membros tem uso bastante constante durante a semana, com queda no domingo.\n",
    "Usuários casuais utilizam mais aos finais de semana."
   ]
  },
  {
   "cell_type": "markdown",
   "id": "a781b032",
   "metadata": {},
   "source": [
    "## Por hora do dia e tipo de usuário"
   ]
  },
  {
   "cell_type": "code",
   "execution_count": 46,
   "id": "a171fc28",
   "metadata": {},
   "outputs": [],
   "source": [
    "hora = df.groupby(['hour', 'member_casual']).agg({'ride_id':'count', 'ride_distance_km':'mean', 'ride_duration':'mean'})"
   ]
  },
  {
   "cell_type": "code",
   "execution_count": 47,
   "id": "7cadea3d",
   "metadata": {},
   "outputs": [],
   "source": [
    "hora.reset_index(inplace=True)"
   ]
  },
  {
   "cell_type": "code",
   "execution_count": 48,
   "id": "9883d681",
   "metadata": {},
   "outputs": [],
   "source": [
    "hora.rename(columns={'ride_id':'ride_count'}, inplace=True)"
   ]
  },
  {
   "cell_type": "code",
   "execution_count": 49,
   "id": "dad02a8d",
   "metadata": {},
   "outputs": [
    {
     "data": {
      "image/png": "[encoded data removed]",
      "text/plain": [
       "<Figure size 432x288 with 1 Axes>"
      ]
     },
     "metadata": {
      "needs_background": "light"
     },
     "output_type": "display_data"
    }
   ],
   "source": [
    "sns.lineplot(x=hora['hour'].astype(str), y='ride_count', data=hora, hue='member_casual')\n",
    "plt.xticks(rotation=90)\n",
    "plt.show()"
   ]
  },
  {
   "cell_type": "markdown",
   "id": "5c96e40e",
   "metadata": {},
   "source": [
    "Membros utilizam mais nos horários de ida e volta do trabalho"
   ]
  },
  {
   "cell_type": "markdown",
   "id": "b1af42d3",
   "metadata": {},
   "source": [
    "## Por dia da semana, hora do dia e tipo de usuário"
   ]
  },
  {
   "cell_type": "code",
   "execution_count": 50,
   "id": "45f81904",
   "metadata": {},
   "outputs": [],
   "source": [
    "dia_hora = df.groupby(['weekday', 'hour', 'member_casual']).agg({'ride_id':'count', 'ride_distance_km':'mean', 'ride_duration':'mean'})"
   ]
  },
  {
   "cell_type": "code",
   "execution_count": 51,
   "id": "cd0376f4",
   "metadata": {},
   "outputs": [],
   "source": [
    "dia_hora.reset_index(inplace=True)"
   ]
  },
  {
   "cell_type": "code",
   "execution_count": 52,
   "id": "0fded188",
   "metadata": {},
   "outputs": [],
   "source": [
    "dia_hora.rename(columns={'ride_id':'ride_count'}, inplace=True)"
   ]
  },
  {
   "cell_type": "code",
   "execution_count": 53,
   "id": "ae602f70",
   "metadata": {},
   "outputs": [
    {
     "data": {
      "image/png": "[encoded data removed]",
      "text/plain": [
       "<Figure size 807.125x1440 with 7 Axes>"
      ]
     },
     "metadata": {
      "needs_background": "light"
     },
     "output_type": "display_data"
    }
   ],
   "source": [
    "sns.relplot(x='hour', y='ride_count', data=dia_hora, kind='line', hue='member_casual', col='weekday', col_wrap=2)\n",
    "plt.show()"
   ]
  },
  {
   "cell_type": "markdown",
   "id": "2d57d418",
   "metadata": {},
   "source": [
    "Nos finais de semana usuários casuais usam mais do que membros durante a tarde"
   ]
  },
  {
   "cell_type": "markdown",
   "id": "cd6f6a3d",
   "metadata": {},
   "source": [
    "## Por tipo de veículo e tipo de usuário"
   ]
  },
  {
   "cell_type": "code",
   "execution_count": 54,
   "id": "0f0ef047",
   "metadata": {},
   "outputs": [],
   "source": [
    "veiculo = df.groupby(['rideable_type', 'member_casual']).agg({'ride_id':'count', 'ride_distance_km':'mean', 'ride_duration':'mean'})"
   ]
  },
  {
   "cell_type": "code",
   "execution_count": 55,
   "id": "1b76ea07",
   "metadata": {},
   "outputs": [],
   "source": [
    "veiculo.reset_index(inplace=True)"
   ]
  },
  {
   "cell_type": "code",
   "execution_count": 56,
   "id": "caa521f0",
   "metadata": {},
   "outputs": [],
   "source": [
    "veiculo.rename(columns={'ride_id':'ride_count'}, inplace=True)"
   ]
  },
  {
   "cell_type": "code",
   "execution_count": 59,
   "id": "de2389ae",
   "metadata": {},
   "outputs": [],
   "source": [
    "veiculo['ride_count_perc(%)'] = np.nan"
   ]
  },
  {
   "cell_type": "code",
   "execution_count": 60,
   "id": "5d97596f",
   "metadata": {},
   "outputs": [],
   "source": [
    "sum_member = veiculo.loc[veiculo['member_casual']=='member']['ride_count'].sum()"
   ]
  },
  {
   "cell_type": "code",
   "execution_count": 61,
   "id": "0e8e14cc",
   "metadata": {},
   "outputs": [],
   "source": [
    "veiculo.loc[veiculo['member_casual']=='member', 'ride_count_perc(%)'] = veiculo.loc[veiculo['member_casual']=='member']['ride_count'] / sum_member"
   ]
  },
  {
   "cell_type": "code",
   "execution_count": 62,
   "id": "6046105e",
   "metadata": {},
   "outputs": [],
   "source": [
    "sum_casual = veiculo.loc[veiculo['member_casual']=='casual']['ride_count'].sum()"
   ]
  },
  {
   "cell_type": "code",
   "execution_count": 63,
   "id": "d5e19aa7",
   "metadata": {},
   "outputs": [],
   "source": [
    "veiculo.loc[veiculo['member_casual']=='casual', 'ride_count_perc(%)'] = veiculo.loc[veiculo['member_casual']=='casual']['ride_count'] / sum_casual"
   ]
  },
  {
   "cell_type": "code",
   "execution_count": 64,
   "id": "8dbfac3e",
   "metadata": {},
   "outputs": [
    {
     "data": {
      "text/html": [
       "<div>\n",
       "<style scoped>\n",
       "    .dataframe tbody tr th:only-of-type {\n",
       "        vertical-align: middle;\n",
       "    }\n",
       "\n",
       "    .dataframe tbody tr th {\n",
       "        vertical-align: top;\n",
       "    }\n",
       "\n",
       "    .dataframe thead th {\n",
       "        text-align: right;\n",
       "    }\n",
       "</style>\n",
       "<table border=\"1\" class=\"dataframe\">\n",
       "  <thead>\n",
       "    <tr style=\"text-align: right;\">\n",
       "      <th></th>\n",
       "      <th>rideable_type</th>\n",
       "      <th>member_casual</th>\n",
       "      <th>ride_count</th>\n",
       "      <th>ride_distance_km</th>\n",
       "      <th>ride_duration</th>\n",
       "      <th>ride_count_perc(%)</th>\n",
       "    </tr>\n",
       "  </thead>\n",
       "  <tbody>\n",
       "    <tr>\n",
       "      <th>0</th>\n",
       "      <td>classic_bike</td>\n",
       "      <td>casual</td>\n",
       "      <td>1796330</td>\n",
       "      <td>2.125222</td>\n",
       "      <td>0 days 00:29:14.671221880</td>\n",
       "      <td>0.354380</td>\n",
       "    </tr>\n",
       "    <tr>\n",
       "      <th>1</th>\n",
       "      <td>classic_bike</td>\n",
       "      <td>member</td>\n",
       "      <td>2956429</td>\n",
       "      <td>1.988892</td>\n",
       "      <td>0 days 00:14:06.894694240</td>\n",
       "      <td>0.453059</td>\n",
       "    </tr>\n",
       "    <tr>\n",
       "      <th>2</th>\n",
       "      <td>docked_bike</td>\n",
       "      <td>casual</td>\n",
       "      <td>1490981</td>\n",
       "      <td>2.108583</td>\n",
       "      <td>0 days 01:01:12.783171616</td>\n",
       "      <td>0.294140</td>\n",
       "    </tr>\n",
       "    <tr>\n",
       "      <th>3</th>\n",
       "      <td>docked_bike</td>\n",
       "      <td>member</td>\n",
       "      <td>1409288</td>\n",
       "      <td>2.267545</td>\n",
       "      <td>0 days 00:17:08.267598957</td>\n",
       "      <td>0.215967</td>\n",
       "    </tr>\n",
       "    <tr>\n",
       "      <th>4</th>\n",
       "      <td>electric_bike</td>\n",
       "      <td>casual</td>\n",
       "      <td>1781632</td>\n",
       "      <td>2.448155</td>\n",
       "      <td>0 days 00:19:15.249649759</td>\n",
       "      <td>0.351480</td>\n",
       "    </tr>\n",
       "    <tr>\n",
       "      <th>5</th>\n",
       "      <td>electric_bike</td>\n",
       "      <td>member</td>\n",
       "      <td>2159767</td>\n",
       "      <td>2.349571</td>\n",
       "      <td>0 days 00:12:26.168181567</td>\n",
       "      <td>0.330974</td>\n",
       "    </tr>\n",
       "  </tbody>\n",
       "</table>\n",
       "</div>"
      ],
      "text/plain": [
       "   rideable_type member_casual  ride_count  ride_distance_km  \\\n",
       "0   classic_bike        casual     1796330          2.125222   \n",
       "1   classic_bike        member     2956429          1.988892   \n",
       "2    docked_bike        casual     1490981          2.108583   \n",
       "3    docked_bike        member     1409288          2.267545   \n",
       "4  electric_bike        casual     1781632          2.448155   \n",
       "5  electric_bike        member     2159767          2.349571   \n",
       "\n",
       "              ride_duration  ride_count_perc(%)  \n",
       "0 0 days 00:29:14.671221880            0.354380  \n",
       "1 0 days 00:14:06.894694240            0.453059  \n",
       "2 0 days 01:01:12.783171616            0.294140  \n",
       "3 0 days 00:17:08.267598957            0.215967  \n",
       "4 0 days 00:19:15.249649759            0.351480  \n",
       "5 0 days 00:12:26.168181567            0.330974  "
      ]
     },
     "execution_count": 64,
     "metadata": {},
     "output_type": "execute_result"
    }
   ],
   "source": [
    "veiculo"
   ]
  },
  {
   "cell_type": "code",
   "execution_count": 65,
   "id": "823c99ff",
   "metadata": {},
   "outputs": [
    {
     "data": {
      "image/png": "[encoded data removed]",
      "text/plain": [
       "<Figure size 432x288 with 1 Axes>"
      ]
     },
     "metadata": {
      "needs_background": "light"
     },
     "output_type": "display_data"
    }
   ],
   "source": [
    "sns.barplot(x=veiculo['rideable_type'].astype(str), y='ride_count_perc(%)', data=veiculo, hue='member_casual')\n",
    "plt.xticks(rotation=90)\n",
    "plt.show()"
   ]
  },
  {
   "cell_type": "markdown",
   "id": "1fe52277",
   "metadata": {},
   "source": [
    "Usuários casuais proporcionalmente usam mais bicicletas elétricas e bicicletas das estações do que membros."
   ]
  },
  {
   "cell_type": "markdown",
   "id": "a6e2aff5",
   "metadata": {},
   "source": [
    "# Export data"
   ]
  },
  {
   "cell_type": "code",
   "execution_count": 66,
   "id": "bec864d7",
   "metadata": {},
   "outputs": [],
   "source": [
    "df.to_csv('data/clean.csv')"
   ]
  },
  {
   "cell_type": "markdown",
   "id": "94aab3b8",
   "metadata": {},
   "source": [
    "# TL;DR"
   ]
  },
  {
   "cell_type": "markdown",
   "id": "aa19dd59",
   "metadata": {},
   "source": [
    "- Usuários casuais usam mais nos meses de verão e finais de semana durante à tarde, sugerindo que alugam bicicleta para fins de lazer."
   ]
  },
  {
   "cell_type": "markdown",
   "id": "f6442772",
   "metadata": {},
   "source": [
    "- Membros usam mais nos dias úteis e nos horários de ida e volta do trabalho/faculdade e afins, eles continuam usando mesmo durante o inverno"
   ]
  },
  {
   "cell_type": "markdown",
   "id": "395a7ec8",
   "metadata": {},
   "source": [
    "- Nos dias úteis usuários casuais usam mais no final da tarde"
   ]
  },
  {
   "cell_type": "markdown",
   "id": "ba617fa7",
   "metadata": {},
   "source": [
    "- Usuários casuais são mais propensos a usar bicicletas elétricas quando comparados a membros"
   ]
  },
  {
   "cell_type": "markdown",
   "id": "a0d212d9",
   "metadata": {},
   "source": [
    "# Como converter usuários casuais em membros?"
   ]
  },
  {
   "cell_type": "markdown",
   "id": "af12a2f3",
   "metadata": {},
   "source": [
    "- Criar campanhas para aumentar a conversão durante o verão e finais de semana, quando usuários casuais são mais ativos"
   ]
  },
  {
   "cell_type": "markdown",
   "id": "e7da324e",
   "metadata": {},
   "source": [
    "- Criar campanhas para promover os benefícios da atividade física diária, sugerindo que usuários casuais incorporem mais atividade física no dia a dia indo e/ou voltando do trabalho de bicicleta"
   ]
  },
  {
   "cell_type": "markdown",
   "id": "eab3dfa7",
   "metadata": {},
   "source": [
    "- Criar campanhas para promover uso no inverno"
   ]
  }
 ],
 "metadata": {
  "kernelspec": {
   "display_name": "Python 3 (ipykernel)",
   "language": "python",
   "name": "python3"
  },
  "language_info": {
   "codemirror_mode": {
    "name": "ipython",
    "version": 3
   },
   "file_extension": ".py",
   "mimetype": "text/x-python",
   "name": "python",
   "nbconvert_exporter": "python",
   "pygments_lexer": "ipython3",
   "version": "3.10.2"
  }
 },
 "nbformat": 4,
 "nbformat_minor": 5
}
